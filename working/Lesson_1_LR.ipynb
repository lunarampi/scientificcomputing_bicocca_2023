{
 "cells": [
  {
   "cell_type": "markdown",
   "id": "4f948aaf",
   "metadata": {},
   "source": [
    "## Q2: Iterations\n",
    "\n",
    "### Part 1\n",
    "\n",
    "To iterate over the tuples, where the _i_-th tuple contains the _i_-th elements of certain sequences, we can use `zip(*sequences)` function.\n",
    "\n",
    "We will iterate over two lists, `names` and `age`, and print out the resulting tuples.\n",
    "\n",
    "  * Start by initializing lists `names = [\"Mary\", \"John\", \"Sarah\"]` and `age = [21, 56, 98]`.\n",
    "  \n",
    "  * Iterate over the tuples containing a name and an age, the `zip(list1, list2)` function might be useful here.\n",
    "  \n",
    "  * Print out formatted strings of the type \"*NAME is AGE years old*\".\n",
    "  \n",
    "\n",
    "### Part 2\n",
    "\n",
    "The function `enumerate(sequence)` returns tuples containing indices of objects in the sequence, and the objects. \n",
    "\n",
    "The `random` module provides tools for working with the random numbers. In particular, `random.randint(start, end)` generates a random number not smaller than `start`, and not bigger than `end`.\n",
    "\n",
    "  * Generate a list of 10 random numbers from 0 to 9.\n",
    "  \n",
    "  * Using the `enumerate(random_list)` function, iterate over the tuples of random numbers and their indices, and print out *\"Match: NUMBER and INDEX\"* if the random number and its index in the list match."
   ]
  },
  {
   "cell_type": "markdown",
   "id": "7ebfb17a",
   "metadata": {},
   "source": [
    "# part 1"
   ]
  },
  {
   "cell_type": "code",
   "execution_count": 1,
   "id": "1057c463",
   "metadata": {},
   "outputs": [
    {
     "name": "stdout",
     "output_type": "stream",
     "text": [
      "Mary is 21 years old\n",
      "John is 56 years old\n",
      "Sarah is 98 years old\n"
     ]
    }
   ],
   "source": [
    "names = [\"Mary\", \"John\", \"Sarah\"]\n",
    "age = [21, 56, 98]\n",
    "for n,a in zip(names,age):\n",
    "    print(f'{n} is {a} years old')"
   ]
  },
  {
   "cell_type": "code",
   "execution_count": 2,
   "id": "994d031d",
   "metadata": {},
   "outputs": [
    {
     "name": "stdout",
     "output_type": "stream",
     "text": [
      "0 Mary\n",
      "1 John\n",
      "2 Sarah\n"
     ]
    }
   ],
   "source": [
    "for i, val in enumerate(names):\n",
    "    print(i, val)"
   ]
  },
  {
   "cell_type": "markdown",
   "id": "b2e786f6",
   "metadata": {},
   "source": [
    "# part 2"
   ]
  },
  {
   "cell_type": "code",
   "execution_count": 5,
   "id": "d2fb1d2a",
   "metadata": {
    "scrolled": true
   },
   "outputs": [
    {
     "data": {
      "text/plain": [
       "[1, 4, 10, 6, 1, 0, 7, 0, 8, 3]"
      ]
     },
     "execution_count": 5,
     "metadata": {},
     "output_type": "execute_result"
    }
   ],
   "source": [
    "import random\n",
    "a = [(random.randint(0, 10)) for i in range(10)]\n",
    "a"
   ]
  },
  {
   "cell_type": "code",
   "execution_count": 6,
   "id": "a5918cd7",
   "metadata": {},
   "outputs": [
    {
     "name": "stdout",
     "output_type": "stream",
     "text": [
      "Match: NUMBER and INDEX  8\n"
     ]
    }
   ],
   "source": [
    "matches = [(val) for i, val in enumerate(a) if i==val]\n",
    "for i, val in enumerate(matches):\n",
    "    print('Match: NUMBER and INDEX ', val)"
   ]
  },
  {
   "cell_type": "markdown",
   "id": "8dfe7b06",
   "metadata": {},
   "source": [
    "## Q13: Calendar events\n",
    "\n",
    "We want to keep a schedule of events.  We will do this by creating a class called `Day`.  It is sketched out below.  A `Day` holds a list of events and has methods that allow you to add an delete events.  Our events will be instances of a class `Event`, which holds the time, location, and description of the event.\n",
    "\n",
    "Finally, we can keep track of a list of all the `Day`s for which we have events to make our schedule.\n",
    "\n",
    "Fill in these classes and write some code to demonstrate their use:\n",
    "\n",
    "  * Create a full week of days in your calendar\n",
    "  * Add an event every day at noon called \"lunch\"\n",
    "  * Randomly add some other events to fill out your calendar\n",
    "  * Write some code that tells you the start time of your first meeting and the end time of your last meeting (this is the length of your work day)"
   ]
  },
  {
   "cell_type": "code",
   "execution_count": 7,
   "id": "e96eb839",
   "metadata": {},
   "outputs": [],
   "source": [
    "class Day:\n",
    "    \"\"\"a single day keeping track of the events scheduled\"\"\"\n",
    "    def __init__(self, month, day, year):\n",
    "        # store the month, day, and year as data in the class\n",
    "        self.month = month\n",
    "        self.day = day\n",
    "        self.year = year\n",
    "        # keep track of the events\n",
    "        self.events = []\n",
    "    \n",
    "    def add_event(self, name, time=None, location=None, duration='00:30'):\n",
    "        self.events.append(Event(name=name, time=time, location=location, duration=duration))\n",
    "    \n",
    "    def delete_event(self, name):\n",
    "        for event in self.events:\n",
    "            if self.event.name==name:\n",
    "                self.events.remove(event) \n",
    "    \n",
    "    def start(self):\n",
    "        sorted_events = sorted(self.events, key=lambda x: x.time)\n",
    "        first = sorted_events[0]\n",
    "        return first.time\n",
    "    \n",
    "    def end(self):\n",
    "        sorted_events = sorted(self.events, key=lambda x: x.time)\n",
    "        last = sorted_events[-1]\n",
    "        return decimal_to_sessagesimal(sessagesimal_to_decimal(last.time) + sessagesimal_to_decimal(last.duration))\n",
    "        \n",
    "    def work_day(self):\n",
    "        return decimal_to_sessagesimal(sessagesimal_to_decimal(self.end())- sessagesimal_to_decimal(self.start()))\n",
    "    \n",
    "class Event:\n",
    "    \"\"\"a single event in our calendar\"\"\"\n",
    "    def __init__(self, name, time='09:00', location=None, duration='01:00'):\n",
    "        \n",
    "        self.name = name\n",
    "        self.time = time\n",
    "        self.location = location\n",
    "        self.duration = duration # duration in min\n",
    "        \n",
    "def decimal_to_sessagesimal(decimal):\n",
    "    minutes = int(decimal % 60)\n",
    "    hours = int(decimal // 60)\n",
    "    return f\"{hours:02d}:{minutes:02d}\"\n",
    "\n",
    "def sessagesimal_to_decimal(sessagesimal):\n",
    "    parts = sessagesimal.split(':')\n",
    "    decimal = int(parts[0]) * 60 + int(parts[1])\n",
    "    return decimal"
   ]
  },
  {
   "cell_type": "code",
   "execution_count": 8,
   "id": "344616cd",
   "metadata": {},
   "outputs": [],
   "source": [
    "# Creating a full week in November 2023\n",
    "\n",
    "days = ['Mon 20', 'Tue 21', 'Wed 22', 'Thu 23', 'Fri 24', 'Sat 25', 'Sun 26']\n",
    "week = [Day(month='Nov', day=day, year=2023) for day in days]"
   ]
  },
  {
   "cell_type": "code",
   "execution_count": 9,
   "id": "8112590c",
   "metadata": {},
   "outputs": [],
   "source": [
    "for i, day in enumerate(days):\n",
    "    week[i].add_event(name='lunch', time='12:00', duration='01:00')\n",
    "    if day!= 'Sat 25' and day!='Sun 26':\n",
    "        week[i].add_event(name='class', time='09:00', location='Room 5', duration='02:00')"
   ]
  },
  {
   "cell_type": "code",
   "execution_count": 10,
   "id": "1f436859",
   "metadata": {},
   "outputs": [],
   "source": [
    "week[4].add_event(name='Meeting with Tizio', time='16:00', location='Office', duration='00:50')\n",
    "week[2].add_event(name='Meeting with Caio', time='15:00', location='Office', duration='00:50')\n",
    "week[3].add_event(name='Meeting with Sempronio', time='17:00', location='Office', duration='00:30')"
   ]
  },
  {
   "cell_type": "code",
   "execution_count": 11,
   "id": "d9de4ef5",
   "metadata": {},
   "outputs": [
    {
     "name": "stdout",
     "output_type": "stream",
     "text": [
      "Mon 20  working day : 04:00\n",
      "Tue 21  working day : 04:00\n",
      "Wed 22  working day : 06:50\n",
      "Thu 23  working day : 08:30\n",
      "Fri 24  working day : 07:50\n"
     ]
    }
   ],
   "source": [
    "for i, day in enumerate(days):\n",
    "    if day!= 'Sat 25' and day!='Sun 26':\n",
    "        print(day, ' working day :', week[i].work_day())"
   ]
  },
  {
   "cell_type": "code",
   "execution_count": null,
   "id": "5b3267c4",
   "metadata": {},
   "outputs": [],
   "source": []
  }
 ],
 "metadata": {
  "kernelspec": {
   "display_name": "Python 3 (ipykernel)",
   "language": "python",
   "name": "python3"
  },
  "language_info": {
   "codemirror_mode": {
    "name": "ipython",
    "version": 3
   },
   "file_extension": ".py",
   "mimetype": "text/x-python",
   "name": "python",
   "nbconvert_exporter": "python",
   "pygments_lexer": "ipython3",
   "version": "3.9.12"
  }
 },
 "nbformat": 4,
 "nbformat_minor": 5
}
