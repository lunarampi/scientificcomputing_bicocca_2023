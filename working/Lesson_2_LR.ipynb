{
 "cells": [
  {
   "cell_type": "markdown",
   "id": "92a5f9bd",
   "metadata": {},
   "source": [
    "## Q1: Fun with arrays\n",
    "\n",
    "**A.**  Create the array: \n",
    "```\n",
    "[[1,  6, 11],\n",
    " [2,  7, 12],\n",
    " [3,  8, 13],\n",
    " [4,  9, 14],\n",
    " [5, 10, 15]]\n",
    "```\n",
    "with out explicitly typing it in.\n",
    "\n",
    "Now create a new array containing only its 2nd and 4th rows.\n",
    "\n",
    "\n",
    "**B.** Create a 2d array with `1` on the border and `0` on the inside, e.g., like:\n",
    "```\n",
    "1 1 1 1 1\n",
    "1 0 0 0 1\n",
    "1 0 0 0 1\n",
    "1 1 1 1 1\n",
    "```\n",
    "\n",
    "Do this using array slice notation to let it work for an arbitrary-sized array"
   ]
  },
  {
   "cell_type": "markdown",
   "id": "0337f55c",
   "metadata": {},
   "source": [
    "# Q1"
   ]
  },
  {
   "cell_type": "code",
   "execution_count": 1,
   "id": "af0559d1",
   "metadata": {},
   "outputs": [],
   "source": [
    "import numpy as np"
   ]
  },
  {
   "cell_type": "code",
   "execution_count": 2,
   "id": "514b600f",
   "metadata": {},
   "outputs": [
    {
     "data": {
      "text/plain": [
       "array([[ 1,  6, 11],\n",
       "       [ 2,  7, 12],\n",
       "       [ 3,  8, 13],\n",
       "       [ 4,  9, 14],\n",
       "       [ 5, 10, 15]])"
      ]
     },
     "execution_count": 2,
     "metadata": {},
     "output_type": "execute_result"
    }
   ],
   "source": [
    "a = np.arange(1, 16).reshape(3,5).T\n",
    "a"
   ]
  },
  {
   "cell_type": "code",
   "execution_count": 3,
   "id": "4f46fc75",
   "metadata": {},
   "outputs": [],
   "source": [
    "b = np.concatenate((a[1,:], a[3,:]))"
   ]
  },
  {
   "cell_type": "code",
   "execution_count": 4,
   "id": "02b9d899",
   "metadata": {},
   "outputs": [],
   "source": [
    "ncols = 5\n",
    "nrows = 4"
   ]
  },
  {
   "cell_type": "code",
   "execution_count": 5,
   "id": "9990cd3b",
   "metadata": {},
   "outputs": [
    {
     "data": {
      "text/plain": [
       "array([[0., 0., 0., 0., 0.],\n",
       "       [0., 0., 0., 0., 0.],\n",
       "       [0., 0., 0., 0., 0.],\n",
       "       [0., 0., 0., 0., 0.]])"
      ]
     },
     "execution_count": 5,
     "metadata": {},
     "output_type": "execute_result"
    }
   ],
   "source": [
    "c = np.zeros(ncols*nrows).reshape(4,5)\n",
    "c"
   ]
  },
  {
   "cell_type": "code",
   "execution_count": 6,
   "id": "1ef0d8c1",
   "metadata": {},
   "outputs": [
    {
     "data": {
      "text/plain": [
       "array([[1., 1., 1., 1., 1.],\n",
       "       [1., 0., 0., 0., 1.],\n",
       "       [1., 0., 0., 0., 1.],\n",
       "       [1., 1., 1., 1., 1.]])"
      ]
     },
     "execution_count": 6,
     "metadata": {},
     "output_type": "execute_result"
    }
   ],
   "source": [
    "c[0] = 1\n",
    "c[-1] = 1\n",
    "c[:,0] = 1\n",
    "c[:, -1] = 1\n",
    "c"
   ]
  },
  {
   "cell_type": "markdown",
   "id": "86f2fd09",
   "metadata": {},
   "source": [
    "## Q3: Are you faster than numpy?\n",
    "\n",
    "Numpy of course has a standard deviation function, `np.std()`, but here we'll write our own that works on a 1-d array (vector).  The standard\n",
    "deviation is a measure of the \"width\" of the distribution of numbers\n",
    "in the vector.\n",
    "\n",
    "Given an array, $a$, and an average $\\bar{a}$, the standard deviation\n",
    "is:\n",
    "$$\n",
    "\\sigma = \\left [ \\frac{1}{N} \\sum_{i=1}^N (a_i - \\bar{a})^2 \\right ]^{1/2}\n",
    "$$\n",
    "\n",
    "Write a function to calculate the standard deviation for an input array, `a`:\n",
    "\n",
    "  * First compute the average of the elements in `a` to define $\\bar{a}$\n",
    "  * Next compute the sum over the squares of $a - \\bar{a}$\n",
    "  * Then divide the sum by the number of elements in the array\n",
    "  * Finally take the square root (you can use `np.sqrt()`)\n",
    "  \n",
    "Test your function on a random array, and compare to the built-in `np.std()`. Check the runtime as well."
   ]
  },
  {
   "cell_type": "code",
   "execution_count": 7,
   "id": "938811a6",
   "metadata": {},
   "outputs": [],
   "source": [
    "import time\n",
    "from matplotlib import pyplot as plt"
   ]
  },
  {
   "cell_type": "code",
   "execution_count": 8,
   "id": "7ab4ee22",
   "metadata": {},
   "outputs": [
    {
     "name": "stdout",
     "output_type": "stream",
     "text": [
      "4.320493798938574\n",
      "my time: 0.0010600090026855469 s\n",
      "4.320493798938574\n",
      "numpy time: 0.00019884109497070312 s\n"
     ]
    }
   ],
   "source": [
    "def mean(a):\n",
    "    s = 0.\n",
    "    for el in a:\n",
    "        s += el\n",
    "    return s/a.size\n",
    "\n",
    "def std_dev(a):\n",
    "    s_square = 0.\n",
    "    m = mean(a)\n",
    "    for el in a:\n",
    "        s_square += (el - m)**2\n",
    "    \n",
    "    return(s_square/a.size)**(1./2.)\n",
    "\n",
    "t0 = time.time()\n",
    "a = np.arange(15)\n",
    "print(std_dev(a))\n",
    "t1 = time.time()\n",
    "print(\"my time: {} s\".format(t1-t0))   \n",
    "\n",
    "t0 = time.time()\n",
    "a = np.arange(15)\n",
    "print(np.std(a))\n",
    "t1 = time.time()\n",
    "print(\"numpy time: {} s\".format(t1-t0)) "
   ]
  },
  {
   "cell_type": "code",
   "execution_count": 9,
   "id": "aac14704",
   "metadata": {},
   "outputs": [],
   "source": [
    "dim = 800\n",
    "x = np.arange(1, dim)\n",
    "my_dev, np_dev, my_time, np_time = np.zeros((4, dim))\n",
    "\n",
    "\n",
    "for i in range(1, dim):\n",
    "    a = np.arange(i)\n",
    "    t0 = time.time()\n",
    "    my_dev[i-1] = std_dev(a)\n",
    "    t1 = time.time()\n",
    "    my_time[i-1] = t1-t0\n",
    "    t0 = time.time()\n",
    "    np_dev[i-1] = np.std(a)\n",
    "    t1 = time.time()\n",
    "    np_time[i-1] = t1 - t0"
   ]
  },
  {
   "cell_type": "code",
   "execution_count": 10,
   "id": "644b1873",
   "metadata": {},
   "outputs": [
    {
     "data": {
      "text/plain": [
       "<matplotlib.legend.Legend at 0x7fe5200420a0>"
      ]
     },
     "execution_count": 10,
     "metadata": {},
     "output_type": "execute_result"
    },
    {
     "data": {
      "image/png": "[encoded data removed]",
      "text/plain": [
       "<Figure size 432x288 with 1 Axes>"
      ]
     },
     "metadata": {
      "needs_background": "light"
     },
     "output_type": "display_data"
    }
   ],
   "source": [
    "plt.plot(x, my_time[:-1], ls='', marker=',', color='royalblue', label='my time')\n",
    "plt.plot(x, np_time[:-1], color='darkorange', ls='', marker=',', label='numpy time')\n",
    "#print(np_time)\n",
    "plt.xlabel('Array size', fontsize=15)\n",
    "plt.ylabel('Computing Time [s]', fontsize=15)\n",
    "plt.yscale('log')\n",
    "plt.legend(fontsize=15)"
   ]
  },
  {
   "cell_type": "code",
   "execution_count": null,
   "id": "c765888a",
   "metadata": {},
   "outputs": [],
   "source": []
  }
 ],
 "metadata": {
  "kernelspec": {
   "display_name": "Python 3 (ipykernel)",
   "language": "python",
   "name": "python3"
  },
  "language_info": {
   "codemirror_mode": {
    "name": "ipython",
    "version": 3
   },
   "file_extension": ".py",
   "mimetype": "text/x-python",
   "name": "python",
   "nbconvert_exporter": "python",
   "pygments_lexer": "ipython3",
   "version": "3.9.12"
  }
 },
 "nbformat": 4,
 "nbformat_minor": 5
}
